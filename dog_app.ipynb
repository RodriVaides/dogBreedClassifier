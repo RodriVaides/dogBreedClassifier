{
 "cells": [
  {
   "cell_type": "markdown",
   "metadata": {},
   "source": [
    "Importing credentials for AWS"
   ]
  },
  {
   "cell_type": "code",
   "execution_count": 1,
   "metadata": {},
   "outputs": [],
   "source": [
    "import logging\n",
    "logging.basicConfig()"
   ]
  },
  {
   "cell_type": "code",
   "execution_count": null,
   "metadata": {},
   "outputs": [],
   "source": [
    "import os\n",
    "from dotenv import load_dotenv"
   ]
  },
  {
   "cell_type": "code",
   "execution_count": null,
   "metadata": {},
   "outputs": [],
   "source": [
    "load_dotenv()\n",
    "#AWS_region_name = os.getenv('AWSRegionName')\n",
    "#AWS_access_key_id = os.getenv('AWSAccessKeyId')\n",
    "#AWS_secret_key = os.getenv('AWSSecretKey')\n",
    "\n",
    "    "
   ]
  },
  {
   "cell_type": "code",
   "execution_count": null,
   "metadata": {},
   "outputs": [],
   "source": [
    "role"
   ]
  },
  {
   "cell_type": "code",
   "execution_count": 1,
   "metadata": {},
   "outputs": [
    {
     "name": "stderr",
     "output_type": "stream",
     "text": [
      "WARNING:root:pandas failed to import. Analytics features will be impaired or broken.\n"
     ]
    }
   ],
   "source": [
    "import sagemaker"
   ]
  },
  {
   "cell_type": "code",
   "execution_count": null,
   "metadata": {},
   "outputs": [],
   "source": [
    "import boto3"
   ]
  },
  {
   "cell_type": "code",
   "execution_count": null,
   "metadata": {},
   "outputs": [],
   "source": [
    "print(boto3.session.Session().region_name)"
   ]
  },
  {
   "cell_type": "code",
   "execution_count": null,
   "metadata": {},
   "outputs": [],
   "source": [
    "sagemaker_session = sagemaker.Session()"
   ]
  },
  {
   "cell_type": "code",
   "execution_count": null,
   "metadata": {},
   "outputs": [],
   "source": [
    "bucket_name = \"my-sage-maker-instance-test-20-03-2020-2\"\n",
    "bucket = boto3.resource('s3').Bucket(bucket_name)"
   ]
  },
  {
   "cell_type": "code",
   "execution_count": null,
   "metadata": {},
   "outputs": [],
   "source": [
    "for obj in bucket.objects.all():\n",
    "     print(obj.key)"
   ]
  },
  {
   "cell_type": "markdown",
   "metadata": {},
   "source": [
    "# Convolutional Neural Networks\n",
    "\n",
    "## Project: Write an Algorithm for a Dog Identification App \n",
    "\n",
    "---\n",
    "\n",
    "In this notebook, some template code has already been provided for you, and you will need to implement additional functionality to successfully complete this project. You will not need to modify the included code beyond what is requested. Sections that begin with **'(IMPLEMENTATION)'** in the header indicate that the following block of code will require additional functionality which you must provide. Instructions will be provided for each section, and the specifics of the implementation are marked in the code block with a 'TODO' statement. Please be sure to read the instructions carefully! \n",
    "\n",
    "> **Note**: Once you have completed all of the code implementations, you need to finalize your work by exporting the Jupyter Notebook as an HTML document. Before exporting the notebook to html, all of the code cells need to have been run so that reviewers can see the final implementation and output. You can then export the notebook by using the menu above and navigating to **File -> Download as -> HTML (.html)**. Include the finished document along with this notebook as your submission.\n",
    "\n",
    "In addition to implementing code, there will be questions that you must answer which relate to the project and your implementation. Each section where you will answer a question is preceded by a **'Question X'** header. Carefully read each question and provide thorough answers in the following text boxes that begin with **'Answer:'**. Your project submission will be evaluated based on your answers to each of the questions and the implementation you provide.\n",
    "\n",
    ">**Note:** Code and Markdown cells can be executed using the **Shift + Enter** keyboard shortcut.  Markdown cells can be edited by double-clicking the cell to enter edit mode.\n",
    "\n",
    "The rubric contains _optional_ \"Stand Out Suggestions\" for enhancing the project beyond the minimum requirements. If you decide to pursue the \"Stand Out Suggestions\", you should include the code in this Jupyter notebook.\n",
    "\n",
    "\n",
    "\n",
    "---\n",
    "### Why We're Here \n",
    "\n",
    "In this notebook, you will make the first steps towards developing an algorithm that could be used as part of a mobile or web app.  At the end of this project, your code will accept any user-supplied image as input.  If a dog is detected in the image, it will provide an estimate of the dog's breed.  If a human is detected, it will provide an estimate of the dog breed that is most resembling.  The image below displays potential sample output of your finished project (... but we expect that each student's algorithm will behave differently!). \n",
    "\n",
    "![Sample Dog Output](images/sample_dog_output.png)\n",
    "\n",
    "In this real-world setting, you will need to piece together a series of models to perform different tasks; for instance, the algorithm that detects humans in an image will be different from the CNN that infers dog breed.  There are many points of possible failure, and no perfect algorithm exists.  Your imperfect solution will nonetheless create a fun user experience!\n",
    "\n",
    "### The Road Ahead\n",
    "\n",
    "We break the notebook into separate steps.  Feel free to use the links below to navigate the notebook.\n",
    "\n",
    "* [Step 0](#step0): Import Datasets\n",
    "* [Step 1](#step1): Detect Humans\n",
    "* [Step 2](#step2): Detect Dogs\n",
    "* [Step 3](#step3): Create a CNN to Classify Dog Breeds (from Scratch)\n",
    "* [Step 4](#step4): Create a CNN to Classify Dog Breeds (using Transfer Learning)\n",
    "* [Step 5](#step5): Write your Algorithm\n",
    "* [Step 6](#step6): Test Your Algorithm\n",
    "\n",
    "---\n",
    "<a id='step0'></a>\n",
    "## Step 0: Import Datasets\n",
    "\n",
    "Make sure that you've downloaded the required human and dog datasets:\n",
    "\n",
    "**Note: if you are using the Udacity workspace, you *DO NOT* need to re-download these - they can be found in the `/data` folder as noted in the cell below.**\n",
    "\n",
    "* Download the [dog dataset](https://s3-us-west-1.amazonaws.com/udacity-aind/dog-project/dogImages.zip).  Unzip the folder and place it in this project's home directory, at the location `/dog_images`. \n",
    "\n",
    "* Download the [human dataset](https://s3-us-west-1.amazonaws.com/udacity-aind/dog-project/lfw.zip).  Unzip the folder and place it in the home directory, at location `/lfw`.  \n",
    "\n",
    "*Note: If you are using a Windows machine, you are encouraged to use [7zip](http://www.7-zip.org/) to extract the folder.*\n",
    "\n",
    "In the code cell below, we save the file paths for both the human (LFW) dataset and dog dataset in the numpy arrays `human_files` and `dog_files`."
   ]
  },
  {
   "cell_type": "code",
   "execution_count": null,
   "metadata": {},
   "outputs": [],
   "source": [
    "import numpy as np\n",
    "from glob import glob\n",
    "\n",
    "# load filenames for human and dog images\n",
    "human_files = np.array(glob(\"../data/lfw/*/*\"))\n",
    "dog_files = np.array(glob(\"../data/dog_images/*/*/*\"))\n",
    "\n",
    "# print number of images in each dataset\n",
    "print('There are %d total human images.' % len(human_files))\n",
    "print('There are %d total dog images.' % len(dog_files))"
   ]
  },
  {
   "cell_type": "markdown",
   "metadata": {},
   "source": [
    "<a id='step1'></a>\n",
    "## Step 1: Detect Humans\n",
    "\n",
    "In this section, we use OpenCV's implementation of [Haar feature-based cascade classifiers](http://docs.opencv.org/trunk/d7/d8b/tutorial_py_face_detection.html) to detect human faces in images.  \n",
    "\n",
    "OpenCV provides many pre-trained face detectors, stored as XML files on [github](https://github.com/opencv/opencv/tree/master/data/haarcascades).  We have downloaded one of these detectors and stored it in the `haarcascades` directory.  In the next code cell, we demonstrate how to use this detector to find human faces in a sample image."
   ]
  },
  {
   "cell_type": "code",
   "execution_count": null,
   "metadata": {},
   "outputs": [],
   "source": [
    "import cv2                \n",
    "import matplotlib.pyplot as plt                        \n",
    "%matplotlib inline                               \n",
    "\n",
    "# extract pre-trained face detector\n",
    "face_cascade = cv2.CascadeClassifier('haarcascades/haarcascade_frontalface_alt.xml')\n",
    "\n",
    "# load color (BGR) image\n",
    "img = cv2.imread(human_files[0])\n",
    "# convert BGR image to grayscale\n",
    "gray = cv2.cvtColor(img, cv2.COLOR_BGR2GRAY)\n",
    "\n",
    "# find faces in image\n",
    "faces = face_cascade.detectMultiScale(gray)\n",
    "\n",
    "# print number of faces detected in the image\n",
    "print('Number of faces detected:', len(faces))\n",
    "\n",
    "# get bounding box for each detected face\n",
    "for (x,y,w,h) in faces:\n",
    "    # add bounding box to color image\n",
    "    cv2.rectangle(img,(x,y),(x+w,y+h),(255,0,0),2)\n",
    "    \n",
    "# convert BGR image to RGB for plotting\n",
    "cv_rgb = cv2.cvtColor(img, cv2.COLOR_BGR2RGB)\n",
    "\n",
    "# display the image, along with bounding box\n",
    "plt.imshow(cv_rgb)\n",
    "plt.show()"
   ]
  },
  {
   "cell_type": "markdown",
   "metadata": {},
   "source": [
    "Before using any of the face detectors, it is standard procedure to convert the images to grayscale.  The `detectMultiScale` function executes the classifier stored in `face_cascade` and takes the grayscale image as a parameter.  \n",
    "\n",
    "In the above code, `faces` is a numpy array of detected faces, where each row corresponds to a detected face.  Each detected face is a 1D array with four entries that specifies the bounding box of the detected face.  The first two entries in the array (extracted in the above code as `x` and `y`) specify the horizontal and vertical positions of the top left corner of the bounding box.  The last two entries in the array (extracted here as `w` and `h`) specify the width and height of the box.\n",
    "\n",
    "### Write a Human Face Detector\n",
    "\n",
    "We can use this procedure to write a function that returns `True` if a human face is detected in an image and `False` otherwise.  This function, aptly named `face_detector`, takes a string-valued file path to an image as input and appears in the code block below."
   ]
  },
  {
   "cell_type": "code",
   "execution_count": null,
   "metadata": {},
   "outputs": [],
   "source": [
    "# returns \"True\" if face is detected in image stored at img_path\n",
    "def face_detector(img_path):\n",
    "    img = cv2.imread(img_path)\n",
    "    gray = cv2.cvtColor(img, cv2.COLOR_BGR2GRAY)\n",
    "    faces = face_cascade.detectMultiScale(gray)\n",
    "    return len(faces) > 0"
   ]
  },
  {
   "cell_type": "markdown",
   "metadata": {},
   "source": [
    "### (IMPLEMENTATION) Assess the Human Face Detector\n",
    "\n",
    "__Question 1:__ Use the code cell below to test the performance of the `face_detector` function.  \n",
    "- What percentage of the first 100 images in `human_files` have a detected human face?  \n",
    "- What percentage of the first 100 images in `dog_files` have a detected human face? \n",
    "\n",
    "Ideally, we would like 100% of human images with a detected face and 0% of dog images with a detected face.  You will see that our algorithm falls short of this goal, but still gives acceptable performance.  We extract the file paths for the first 100 images from each of the datasets and store them in the numpy arrays `human_files_short` and `dog_files_short`."
   ]
  },
  {
   "cell_type": "markdown",
   "metadata": {},
   "source": [
    "__Answer:__ \n",
    "(You can print out your results and/or write your percentages in this cell)"
   ]
  },
  {
   "cell_type": "code",
   "execution_count": null,
   "metadata": {},
   "outputs": [],
   "source": [
    "from tqdm import tqdm\n",
    "\n",
    "human_files_short = human_files[:100]\n",
    "dog_files_short = dog_files[:100]\n",
    "\n",
    "#-#-# Do NOT modify the code above this line. #-#-#\n",
    "\n",
    "## TODO: Test the performance of the face_detector algorithm \n",
    "## on the images in human_files_short and dog_files_short.\n",
    "true_humans = 0\n",
    "i=0\n",
    "for path in human_files_short:\n",
    "    print(i)\n",
    "    i+=1\n",
    "    if(face_detector(path)):\n",
    "        true_humans +=1\n",
    "i=0\n",
    "false_humans = 0\n",
    "for path2 in dog_files_short:\n",
    "    print(i)\n",
    "    i+=1\n",
    "    if(face_detector(path2)):\n",
    "        false_humans +=1\n",
    "        \n",
    "print(f'Percentage of humans detected in human_files_short: {true_humans/len(human_files_short)*100}%')\n",
    "print(f'Percentage of humans in dog_files_short: {false_humans/len(dog_files_short)*100}%')"
   ]
  },
  {
   "cell_type": "markdown",
   "metadata": {},
   "source": [
    "We suggest the face detector from OpenCV as a potential way to detect human images in your algorithm, but you are free to explore other approaches, especially approaches that make use of deep learning :).  Please use the code cell below to design and test your own face detection algorithm.  If you decide to pursue this _optional_ task, report performance on `human_files_short` and `dog_files_short`."
   ]
  },
  {
   "cell_type": "code",
   "execution_count": null,
   "metadata": {},
   "outputs": [],
   "source": [
    "### (Optional) \n",
    "### TODO: Test performance of anotherface detection algorithm.\n",
    "### Feel free to use as many code cells as needed."
   ]
  },
  {
   "cell_type": "markdown",
   "metadata": {},
   "source": [
    "---\n",
    "<a id='step2'></a>\n",
    "## Step 2: Detect Dogs\n",
    "\n",
    "In this section, we use a [pre-trained model](http://pytorch.org/docs/master/torchvision/models.html) to detect dogs in images.  \n",
    "\n",
    "### Obtain Pre-trained VGG-16 Model\n",
    "\n",
    "The code cell below downloads the VGG-16 model, along with weights that have been trained on [ImageNet](http://www.image-net.org/), a very large, very popular dataset used for image classification and other vision tasks.  ImageNet contains over 10 million URLs, each linking to an image containing an object from one of [1000 categories](https://gist.github.com/yrevar/942d3a0ac09ec9e5eb3a).  "
   ]
  },
  {
   "cell_type": "code",
   "execution_count": null,
   "metadata": {},
   "outputs": [],
   "source": [
    "import torch\n",
    "import torchvision.models as models\n",
    "\n",
    "# define VGG16 model\n",
    "VGG16 = models.vgg16(pretrained=True)\n",
    "\n",
    "# check if CUDA is available\n",
    "use_cuda = torch.cuda.is_available()\n",
    "\n",
    "# move model to GPU if CUDA is available\n",
    "if use_cuda:\n",
    "    VGG16 = VGG16.cuda()"
   ]
  },
  {
   "cell_type": "code",
   "execution_count": null,
   "metadata": {},
   "outputs": [],
   "source": [
    "next(VGG16.parameters()).device"
   ]
  },
  {
   "cell_type": "code",
   "execution_count": null,
   "metadata": {},
   "outputs": [],
   "source": [
    "VGG16"
   ]
  },
  {
   "cell_type": "markdown",
   "metadata": {},
   "source": [
    "Given an image, this pre-trained VGG-16 model returns a prediction (derived from the 1000 possible categories in ImageNet) for the object that is contained in the image."
   ]
  },
  {
   "cell_type": "markdown",
   "metadata": {},
   "source": [
    "### (IMPLEMENTATION) Making Predictions with a Pre-trained Model\n",
    "\n",
    "In the next code cell, you will write a function that accepts a path to an image (such as `'dogImages/train/001.Affenpinscher/Affenpinscher_00001.jpg'`) as input and returns the index corresponding to the ImageNet class that is predicted by the pre-trained VGG-16 model.  The output should always be an integer between 0 and 999, inclusive.\n",
    "\n",
    "Before writing the function, make sure that you take the time to learn  how to appropriately pre-process tensors for pre-trained models in the [PyTorch documentation](http://pytorch.org/docs/stable/torchvision/models.html)."
   ]
  },
  {
   "cell_type": "code",
   "execution_count": null,
   "metadata": {},
   "outputs": [],
   "source": [
    "from PIL import Image\n",
    "import torchvision.transforms as transforms\n",
    "#import torchvision.datasets as datasets\n",
    "Image.LOAD_TRUNCATED_IMAGES = True\n",
    "\n",
    "def VGG16_predict(img_path):\n",
    "    '''\n",
    "    Use pre-trained VGG-16 model to obtain index corresponding to \n",
    "    predicted ImageNet class for image at specified path\n",
    "    \n",
    "    Args:\n",
    "        img_path: path to an image\n",
    "        \n",
    "    Returns:\n",
    "        Index corresponding to VGG-16 model's prediction\n",
    "    '''\n",
    "    \n",
    "    ## TODO: Complete the function.\n",
    "    ## Load and pre-process an image from the given img_path\n",
    "    ## Return the *index* of the predicted class for that image\n",
    "    \n",
    "    im = Image.open(img_path)\n",
    "    \n",
    "    data_transform = transforms.Compose([transforms.Resize(256),\n",
    "                                      transforms.CenterCrop(224),\n",
    "                                      transforms.ToTensor(),\n",
    "                                      transforms.Normalize([0.485, 0.456, 0.406], \n",
    "                                                           [0.229, 0.224, 0.225])])\n",
    "            \n",
    "    img_data = data_transform(im).unsqueeze_(0)\n",
    "    \n",
    "    if use_cuda:\n",
    "        img_data = img_data.to('cuda')\n",
    "                                 \n",
    "    prediction = VGG16(img_data)\n",
    "    \n",
    "    value, index = prediction[0].max(0)\n",
    "    return index.item()\n",
    "#    return VGG16(img_data)\n",
    "#    return None # predicted class index"
   ]
  },
  {
   "cell_type": "code",
   "execution_count": null,
   "metadata": {},
   "outputs": [],
   "source": [
    "with open(\"ImageNet_mapping.txt\") as f:\n",
    "    vgg16_index_to_name = eval(f.read())"
   ]
  },
  {
   "cell_type": "code",
   "execution_count": null,
   "metadata": {},
   "outputs": [],
   "source": [
    "results_list = []\n",
    "index = 0\n",
    "for img in human_files_short:\n",
    "    prediction = VGG16_predict(img)\n",
    "    result = {\n",
    "    'prediction_index': prediction,\n",
    "    'prediction_name': vgg16_index_to_name[prediction],\n",
    "    'file_name':img,\n",
    "    'file_index:':index\n",
    "    }\n",
    "    results_list.append(result)\n",
    "    index +=1"
   ]
  },
  {
   "cell_type": "code",
   "execution_count": null,
   "metadata": {},
   "outputs": [],
   "source": [
    "results_list"
   ]
  },
  {
   "cell_type": "code",
   "execution_count": null,
   "metadata": {},
   "outputs": [],
   "source": [
    "for i in range(10,30):\n",
    "    item = results_list[i]\n",
    "    print(f'Prediction Index: {item[\"prediction_index\"]} Prediction Name: {item[\"prediction_name\"]} File Name: {item[\"file_name\"]}')\n",
    "    plt.imshow(cv2.cvtColor(cv2.imread(item['file_name']), cv2.COLOR_BGR2RGB))\n",
    "    plt.show()"
   ]
  },
  {
   "cell_type": "markdown",
   "metadata": {},
   "source": [
    "### (IMPLEMENTATION) Write a Dog Detector\n",
    "\n",
    "While looking at the [dictionary](https://gist.github.com/yrevar/942d3a0ac09ec9e5eb3a), you will notice that the categories corresponding to dogs appear in an uninterrupted sequence and correspond to dictionary keys 151-268, inclusive, to include all categories from `'Chihuahua'` to `'Mexican hairless'`.  Thus, in order to check to see if an image is predicted to contain a dog by the pre-trained VGG-16 model, we need only check if the pre-trained model predicts an index between 151 and 268 (inclusive).\n",
    "\n",
    "Use these ideas to complete the `dog_detector` function below, which returns `True` if a dog is detected in an image (and `False` if not)."
   ]
  },
  {
   "cell_type": "code",
   "execution_count": null,
   "metadata": {},
   "outputs": [],
   "source": [
    "### returns \"True\" if a dog is detected in the image stored at img_path\n",
    "def dog_detector(img_path):\n",
    "    ## TODO: Complete the function.\n",
    "    \n",
    "    index = VGG16_predict(img_path)\n",
    "    \n",
    "    return 151 <= index <= 268 # true/false"
   ]
  },
  {
   "cell_type": "markdown",
   "metadata": {},
   "source": [
    "### (IMPLEMENTATION) Assess the Dog Detector\n",
    "\n",
    "__Question 2:__ Use the code cell below to test the performance of your `dog_detector` function.  \n",
    "- What percentage of the images in `human_files_short` have a detected dog?  \n",
    "- What percentage of the images in `dog_files_short` have a detected dog?"
   ]
  },
  {
   "cell_type": "markdown",
   "metadata": {},
   "source": [
    "__Answer:__ \n"
   ]
  },
  {
   "cell_type": "code",
   "execution_count": null,
   "metadata": {},
   "outputs": [],
   "source": [
    "### TODO: Test the performance of the dog_detector function\n",
    "### on the images in human_files_short and dog_files_short.\n",
    "true_dogs = 0\n",
    "i=0\n",
    "for path in dog_files_short:\n",
    "    if (i%10==0):\n",
    "        print(f'{i}%')\n",
    "    i+=1\n",
    "    if(dog_detector(path)):\n",
    "        true_dogs +=1\n",
    "i=0\n",
    "false_dogs = 0\n",
    "for path2 in human_files_short:\n",
    "    if(i%10==0):\n",
    "        print(f'{i}%')\n",
    "    i+=1\n",
    "    if(dog_detector(path2)):\n",
    "        false_dogs +=1\n",
    "        \n",
    "print(f'Percentage of dogs detected in dog_files_short: {true_dogs/len(dog_files_short)*100}%')\n",
    "print(f'Percentage of dogs in human_files_short: {false_dogs/len(human_files_short)*100}%')"
   ]
  },
  {
   "cell_type": "markdown",
   "metadata": {},
   "source": [
    "We suggest VGG-16 as a potential network to detect dog images in your algorithm, but you are free to explore other pre-trained networks (such as [Inception-v3](http://pytorch.org/docs/master/torchvision/models.html#inception-v3), [ResNet-50](http://pytorch.org/docs/master/torchvision/models.html#id3), etc).  Please use the code cell below to test other pre-trained PyTorch models.  If you decide to pursue this _optional_ task, report performance on `human_files_short` and `dog_files_short`."
   ]
  },
  {
   "cell_type": "code",
   "execution_count": null,
   "metadata": {},
   "outputs": [],
   "source": [
    "### (Optional) \n",
    "### TODO: Report the performance of another pre-trained network.\n",
    "### Feel free to use as many code cells as needed."
   ]
  },
  {
   "cell_type": "markdown",
   "metadata": {},
   "source": [
    "---\n",
    "<a id='step3'></a>\n",
    "## Step 3: Create a CNN to Classify Dog Breeds (from Scratch)\n",
    "\n",
    "Now that we have functions for detecting humans and dogs in images, we need a way to predict breed from images.  In this step, you will create a CNN that classifies dog breeds.  You must create your CNN _from scratch_ (so, you can't use transfer learning _yet_!), and you must attain a test accuracy of at least 10%.  In Step 4 of this notebook, you will have the opportunity to use transfer learning to create a CNN that attains greatly improved accuracy.\n",
    "\n",
    "We mention that the task of assigning breed to dogs from images is considered exceptionally challenging.  To see why, consider that *even a human* would have trouble distinguishing between a Brittany and a Welsh Springer Spaniel.  \n",
    "\n",
    "Brittany | Welsh Springer Spaniel\n",
    "- | - \n",
    "<img src=\"images/Brittany_02625.jpg\" width=\"100\"> | <img src=\"images/Welsh_springer_spaniel_08203.jpg\" width=\"200\">\n",
    "\n",
    "It is not difficult to find other dog breed pairs with minimal inter-class variation (for instance, Curly-Coated Retrievers and American Water Spaniels).  \n",
    "\n",
    "Curly-Coated Retriever | American Water Spaniel\n",
    "- | -\n",
    "<img src=\"images/Curly-coated_retriever_03896.jpg\" width=\"200\"> | <img src=\"images/American_water_spaniel_00648.jpg\" width=\"200\">\n",
    "\n",
    "\n",
    "Likewise, recall that labradors come in yellow, chocolate, and black.  Your vision-based algorithm will have to conquer this high intra-class variation to determine how to classify all of these different shades as the same breed.  \n",
    "\n",
    "Yellow Labrador | Chocolate Labrador | Black Labrador\n",
    "- | -\n",
    "<img src=\"images/Labrador_retriever_06457.jpg\" width=\"150\"> | <img src=\"images/Labrador_retriever_06455.jpg\" width=\"240\"> | <img src=\"images/Labrador_retriever_06449.jpg\" width=\"220\">\n",
    "\n",
    "We also mention that random chance presents an exceptionally low bar: setting aside the fact that the classes are slightly imabalanced, a random guess will provide a correct answer roughly 1 in 133 times, which corresponds to an accuracy of less than 1%.  \n",
    "\n",
    "Remember that the practice is far ahead of the theory in deep learning.  Experiment with many different architectures, and trust your intuition.  And, of course, have fun!\n",
    "\n",
    "### (IMPLEMENTATION) Specify Data Loaders for the Dog Dataset\n",
    "\n",
    "Use the code cell below to write three separate [data loaders](http://pytorch.org/docs/stable/data.html#torch.utils.data.DataLoader) for the training, validation, and test datasets of dog images (located at `dog_images/train`, `dog_images/valid`, and `dog_images/test`, respectively).  You may find [this documentation on custom datasets](http://pytorch.org/docs/stable/torchvision/datasets.html) to be a useful resource.  If you are interested in augmenting your training and/or validation data, check out the wide variety of [transforms](http://pytorch.org/docs/stable/torchvision/transforms.html?highlight=transform)!"
   ]
  },
  {
   "cell_type": "code",
   "execution_count": null,
   "metadata": {},
   "outputs": [],
   "source": [
    "'''\n",
    "import os\n",
    "from torchvision import datasets\n",
    "\n",
    "### TODO: Write data loaders for training, validation, and test sets\n",
    "## Specify appropriate transforms, and batch_sizes\n",
    "train_dir = '/data/dog_images/train'\n",
    "valid_dir = '/data/dog_images/valid'\n",
    "test_dir = '/data/dog_images/test'\n",
    "\n",
    "# Defining transforms for the training, validation, and testing sets\n",
    "train_transforms = transforms.Compose([transforms.RandomRotation(30),\n",
    "                                       transforms.RandomResizedCrop(224),\n",
    "                                       transforms.RandomHorizontalFlip(),\n",
    "                                       transforms.ToTensor(),\n",
    "                                       transforms.Normalize([0.485, 0.456, 0.406], \n",
    "                                                            [0.229, 0.224, 0.225])])\n",
    "\n",
    "test_validation_transforms = transforms.Compose([transforms.Resize(256),\n",
    "                                      transforms.CenterCrop(224),\n",
    "                                      transforms.ToTensor(),\n",
    "                                      transforms.Normalize([0.485, 0.456, 0.406], \n",
    "                                                           [0.229, 0.224, 0.225])])\n",
    "\n",
    "#Using datasets.ImageFolder to load the data and apply the transforms to each dataset\n",
    "train_data = datasets.ImageFolder(train_dir, transform=train_transforms)\n",
    "valid_data = datasets.ImageFolder(valid_dir, transform=test_validation_transforms)\n",
    "test_data = datasets.ImageFolder(test_dir, transform=test_validation_transforms)\n",
    "\n",
    "#Creating dataloaders for each dataset\n",
    "trainloader = torch.utils.data.DataLoader(train_data, batch_size=64, shuffle=True)\n",
    "testloader = torch.utils.data.DataLoader(test_data, batch_size=64)\n",
    "validloader = torch.utils.data.DataLoader(test_data, batch_size=64)\n",
    "'''"
   ]
  },
  {
   "cell_type": "code",
   "execution_count": 4,
   "metadata": {},
   "outputs": [],
   "source": [
    "import torchvision.transforms as transforms\n",
    "import torch\n",
    "import torchvision.models as models"
   ]
  },
  {
   "cell_type": "code",
   "execution_count": 5,
   "metadata": {},
   "outputs": [],
   "source": [
    "import os\n",
    "from torchvision import datasets\n",
    "\n",
    "### TODO: Write data loaders for training, validation, and test sets\n",
    "## Specify appropriate transforms, and batch_sizes\n",
    "train_dir = '../data/dog_images/train'\n",
    "valid_dir = '../data/dog_images/valid'\n",
    "test_dir = '../data/dog_images/test'\n",
    "\n",
    "# Defining transforms for the training, validation, and testing sets\n",
    "train_transforms = transforms.Compose([transforms.RandomRotation(30),\n",
    "                                       transforms.RandomResizedCrop(224),\n",
    "                                       transforms.RandomHorizontalFlip(),\n",
    "                                       transforms.ToTensor(),\n",
    "                                       transforms.Normalize([0.485, 0.456, 0.406], \n",
    "                                                            [0.229, 0.224, 0.225])])\n",
    "\n",
    "test_validation_transforms = transforms.Compose([transforms.Resize(256),\n",
    "                                      transforms.CenterCrop(224),\n",
    "                                      transforms.ToTensor(),\n",
    "                                      transforms.Normalize([0.485, 0.456, 0.406], \n",
    "                                                           [0.229, 0.224, 0.225])])\n",
    "\n",
    "#Using datasets.ImageFolder to load the data and apply the transforms to each dataset\n",
    "train_data = datasets.ImageFolder(train_dir, transform=train_transforms)\n",
    "valid_data = datasets.ImageFolder(valid_dir, transform=test_validation_transforms)\n",
    "test_data = datasets.ImageFolder(test_dir, transform=test_validation_transforms)\n",
    "\n",
    "#Creating dataloaders for each dataset\n",
    "trainloader = torch.utils.data.DataLoader(train_data, batch_size=64, shuffle=True)\n",
    "testloader = torch.utils.data.DataLoader(test_data, batch_size=64)\n",
    "validloader = torch.utils.data.DataLoader(test_data, batch_size=64)\n",
    "\n",
    "loaders_scratch={\n",
    "    'train':trainloader,\n",
    "    'test':testloader,\n",
    "    'valid':validloader\n",
    "}"
   ]
  },
  {
   "cell_type": "code",
   "execution_count": 10,
   "metadata": {},
   "outputs": [
    {
     "data": {
      "text/plain": [
       "torch.Size([64, 3, 224, 224])"
      ]
     },
     "execution_count": 10,
     "metadata": {},
     "output_type": "execute_result"
    }
   ],
   "source": [
    "next(iter(loaders_scratch['train']))[0].shape"
   ]
  },
  {
   "cell_type": "code",
   "execution_count": null,
   "metadata": {},
   "outputs": [],
   "source": [
    "dog_category_dict = {}\n",
    "\n",
    "for directory in os.listdir(train_dir):\n",
    "    key, value = directory.split('.')\n",
    "    dog_category_dict[key]=value"
   ]
  },
  {
   "cell_type": "markdown",
   "metadata": {},
   "source": [
    "**Question 3:** Describe your chosen procedure for preprocessing the data. \n",
    "- How does your code resize the images (by cropping, stretching, etc)?  What size did you pick for the input tensor, and why?\n",
    "- Did you decide to augment the dataset?  If so, how (through translations, flips, rotations, etc)?  If not, why not?\n"
   ]
  },
  {
   "cell_type": "markdown",
   "metadata": {},
   "source": [
    "**Answer**:"
   ]
  },
  {
   "cell_type": "markdown",
   "metadata": {},
   "source": [
    "### (IMPLEMENTATION) Model Architecture\n",
    "\n",
    "Create a CNN to classify dog breed.  Use the template in the code cell below."
   ]
  },
  {
   "cell_type": "code",
   "execution_count": 19,
   "metadata": {},
   "outputs": [
    {
     "ename": "NameError",
     "evalue": "name 'use_cuda' is not defined",
     "output_type": "error",
     "traceback": [
      "\u001b[0;31m---------------------------------------------------------------------------\u001b[0m",
      "\u001b[0;31mNameError\u001b[0m                                 Traceback (most recent call last)",
      "\u001b[0;32m<ipython-input-19-620e7ac0ac04>\u001b[0m in \u001b[0;36m<module>\u001b[0;34m\u001b[0m\n\u001b[1;32m     31\u001b[0m \u001b[0;34m\u001b[0m\u001b[0m\n\u001b[1;32m     32\u001b[0m \u001b[0;31m# move tensors to GPU if CUDA is available\u001b[0m\u001b[0;34m\u001b[0m\u001b[0;34m\u001b[0m\u001b[0;34m\u001b[0m\u001b[0m\n\u001b[0;32m---> 33\u001b[0;31m \u001b[0;32mif\u001b[0m \u001b[0muse_cuda\u001b[0m\u001b[0;34m:\u001b[0m\u001b[0;34m\u001b[0m\u001b[0;34m\u001b[0m\u001b[0m\n\u001b[0m\u001b[1;32m     34\u001b[0m     \u001b[0mmodel_scratch\u001b[0m\u001b[0;34m.\u001b[0m\u001b[0mcuda\u001b[0m\u001b[0;34m(\u001b[0m\u001b[0;34m)\u001b[0m\u001b[0;34m\u001b[0m\u001b[0;34m\u001b[0m\u001b[0m\n",
      "\u001b[0;31mNameError\u001b[0m: name 'use_cuda' is not defined"
     ]
    }
   ],
   "source": [
    "import torch.nn as nn\n",
    "import torch.nn.functional as F\n",
    "\n",
    "# define the CNN architecture\n",
    "class Net(nn.Module):\n",
    "    ### TODO: choose an architecture, and complete the class\n",
    "    def __init__(self):\n",
    "        super(Net, self).__init__()\n",
    "        ## Define layers of a CNN\n",
    "        ## Define layers of a CNN\n",
    "        self.conv1 = nn.Conv2d(3,32,kernel_size=5)\n",
    "        self.conv2 = nn.Conv2d(32,64,kernel_size=5)\n",
    "        self.mp = nn.MaxPool2d(2)\n",
    "        self.fc = nn.Linear(179776,len(dog_category_dict))\n",
    "        \n",
    "    def forward(self, x):\n",
    "        ## Define forward behavior\n",
    "        in_size = x.size(0)\n",
    "        x = F.relu(self.mp(self.conv1(x)))\n",
    "        x = F.relu(self.mp(self.conv2(x)))\n",
    "        x = x.view(in_size,-1)\n",
    "        x = self.fc(x)\n",
    "        return F.log_softmax(x)\n",
    "\n",
    "#-#-# You so NOT have to modify the code below this line. #-#-#\n",
    "\n",
    "# instantiate the CNN\n",
    "model_scratch = Net()\n",
    "\n",
    "# move tensors to GPU if CUDA is available\n",
    "if use_cuda:\n",
    "    model_scratch.cuda()"
   ]
  },
  {
   "cell_type": "markdown",
   "metadata": {},
   "source": [
    "__Question 4:__ Outline the steps you took to get to your final CNN architecture and your reasoning at each step.  "
   ]
  },
  {
   "cell_type": "markdown",
   "metadata": {},
   "source": [
    "__Answer:__ "
   ]
  },
  {
   "cell_type": "markdown",
   "metadata": {},
   "source": [
    "### (IMPLEMENTATION) Specify Loss Function and Optimizer\n",
    "\n",
    "Use the next code cell to specify a [loss function](http://pytorch.org/docs/stable/nn.html#loss-functions) and [optimizer](http://pytorch.org/docs/stable/optim.html).  Save the chosen loss function as `criterion_scratch`, and the optimizer as `optimizer_scratch` below."
   ]
  },
  {
   "cell_type": "code",
   "execution_count": null,
   "metadata": {},
   "outputs": [],
   "source": [
    "import torch.optim as optim\n",
    "\n",
    "### TODO: select loss function\n",
    "criterion_scratch = nn.CrossEntropyLoss()\n",
    "\n",
    "### TODO: select optimizer\n",
    "optimizer_scratch = optim.SGD(model_scratch.parameters(), lr=0.01)"
   ]
  },
  {
   "cell_type": "markdown",
   "metadata": {},
   "source": [
    "### (IMPLEMENTATION) Train and Validate the Model\n",
    "\n",
    "Train and validate your model in the code cell below.  [Save the final model parameters](http://pytorch.org/docs/master/notes/serialization.html) at filepath `'model_scratch.pt'`."
   ]
  },
  {
   "cell_type": "markdown",
   "metadata": {},
   "source": [
    "original Training"
   ]
  },
  {
   "cell_type": "code",
   "execution_count": null,
   "metadata": {},
   "outputs": [],
   "source": [
    "'''\n",
    "def train(n_epochs, loaders, model, optimizer, criterion, use_cuda, save_path):\n",
    "    \"\"\"returns trained model\"\"\"\n",
    "    # initialize tracker for minimum validation loss\n",
    "    valid_loss_min = np.Inf \n",
    "    \n",
    "    for epoch in range(1, n_epochs+1):\n",
    "        # initialize variables to monitor training and validation loss\n",
    "        train_loss = 0.0\n",
    "        valid_loss = 0.0\n",
    "        \n",
    "        ###################\n",
    "        # train the model #\n",
    "        ###################\n",
    "        model.train()\n",
    "        for batch_idx, (data, target) in enumerate(loaders['train']):\n",
    "            # move to GPU\n",
    "            if use_cuda:\n",
    "                data, target = data.cuda(), target.cuda()\n",
    "            ## find the loss and update the model parameters accordingly\n",
    "            ## record the average training loss, using something like\n",
    "            ## train_loss = train_loss + ((1 / (batch_idx + 1)) * (loss.data - train_loss))\n",
    "            \n",
    "        ######################    \n",
    "        # validate the model #\n",
    "        ######################\n",
    "        model.eval()\n",
    "        for batch_idx, (data, target) in enumerate(loaders['valid']):\n",
    "            # move to GPU\n",
    "            if use_cuda:\n",
    "                data, target = data.cuda(), target.cuda()\n",
    "            ## update the average validation loss\n",
    "\n",
    "            \n",
    "        # print training/validation statistics \n",
    "        print('Epoch: {} \\tTraining Loss: {:.6f} \\tValidation Loss: {:.6f}'.format(\n",
    "            epoch, \n",
    "            train_loss,\n",
    "            valid_loss\n",
    "            ))\n",
    "        \n",
    "        ## TODO: save the model if validation loss has decreased\n",
    "            \n",
    "    # return trained model\n",
    "    return model\n",
    "\n",
    "\n",
    "# train the model\n",
    "model_scratch = train(100, loaders_scratch, model_scratch, optimizer_scratch, \n",
    "                      criterion_scratch, use_cuda, 'model_scratch.pt')\n",
    "\n",
    "# load the model that got the best validation accuracy\n",
    "model_scratch.load_state_dict(torch.load('model_scratch.pt'))\n",
    "'''"
   ]
  },
  {
   "cell_type": "markdown",
   "metadata": {},
   "source": [
    "Updated training"
   ]
  },
  {
   "cell_type": "code",
   "execution_count": null,
   "metadata": {},
   "outputs": [],
   "source": [
    "def train(n_epochs, loaders, model, optimizer, criterion, use_cuda, save_path):\n",
    "    \"\"\"returns trained model\"\"\"\n",
    "    # initialize tracker for minimum validation loss\n",
    "    valid_loss_min = np.Inf \n",
    "    print_every = 100\n",
    "    steps = 0\n",
    "    \n",
    "    for epoch in range(1, n_epochs+1):\n",
    "        # initialize variables to monitor training and validation loss\n",
    "        train_loss = 0.0\n",
    "        valid_loss = 0.0\n",
    "        \n",
    "        ###################\n",
    "        # train the model #\n",
    "        ###################\n",
    "        model.train()\n",
    "        \n",
    "        for batch_idx, (data, target) in enumerate(loaders['train']):\n",
    "            try:\n",
    "                # move to GPU\n",
    "                if use_cuda:\n",
    "                    data, target = data.cuda(), target.cuda()\n",
    "                ## find the loss and update the model parameters accordingly\n",
    "                #data.resize_(data.size()[0], 3*224*224)\n",
    "                optimizer.zero_grad()\n",
    "\n",
    "                output = model.forward(data)\n",
    "                loss = criterion(output, target)\n",
    "                loss.backward()\n",
    "                optimizer.step()\n",
    "\n",
    "                ## record the average training loss, using something like\n",
    "                #train_loss += loss.item()\n",
    "                train_loss = train_loss + ((1 / (batch_idx + 1)) * (loss.data - train_loss))\n",
    "                if steps % print_every == 0:\n",
    "                    print(\"Epoch: {}/{}... \".format(epoch, n_epochs),\n",
    "                          \"Loss: {:.4f}\".format(train_loss/print_every))\n",
    "            except OSError as err:\n",
    "                print(\"there was an error in batch: {}\".format(batch_idx))\n",
    "                print(err)\n",
    "\n",
    "        ######################    \n",
    "        # validate the model #\n",
    "        ######################\n",
    "        model.eval()\n",
    "        for batch_idx, (data, target) in enumerate(loaders['valid']):\n",
    "            # move to GPU\n",
    "            if use_cuda:\n",
    "                data, target = data.cuda(), target.cuda()\n",
    "            ## update the average validation loss\n",
    "        \n",
    "       \n",
    "\n",
    "            \n",
    "        # print training/validation statistics \n",
    "        print('Epoch: {} \\tTraining Loss: {:.6f} \\tValidation Loss: {:.6f}'.format(\n",
    "            epoch, \n",
    "            train_loss,\n",
    "            valid_loss\n",
    "            ))\n",
    "        \n",
    "        ## TODO: save the model if validation loss has decreased\n",
    "            \n",
    "    # return trained model\n",
    "    return model\n",
    "\n",
    "\n",
    "# train the model\n",
    "model_scratch = train(50, loaders_scratch, model_scratch, optimizer_scratch, \n",
    "                      criterion_scratch, use_cuda, 'model_scratch.pt')\n",
    "\n",
    "# load the model that got the best validation accuracy\n",
    "#model_scratch.load_state_dict(torch.load('model_scratch.pt'))"
   ]
  },
  {
   "cell_type": "markdown",
   "metadata": {},
   "source": [
    "### (IMPLEMENTATION) Test the Model\n",
    "\n",
    "Try out your model on the test dataset of dog images.  Use the code cell below to calculate and print the test loss and accuracy.  Ensure that your test accuracy is greater than 10%."
   ]
  },
  {
   "cell_type": "code",
   "execution_count": null,
   "metadata": {},
   "outputs": [],
   "source": [
    "def test(loaders, model, criterion, use_cuda):\n",
    "\n",
    "    # monitor test loss and accuracy\n",
    "    test_loss = 0.\n",
    "    correct = 0.\n",
    "    total = 0.\n",
    "\n",
    "    model.eval()\n",
    "    for batch_idx, (data, target) in enumerate(loaders['test']):\n",
    "        # move to GPU\n",
    "        if use_cuda:\n",
    "            data, target = data.cuda(), target.cuda()\n",
    "        # forward pass: compute predicted outputs by passing inputs to the model\n",
    "        output = model(data)\n",
    "        # calculate the loss\n",
    "        loss = criterion(output, target)\n",
    "        # update average test loss \n",
    "        test_loss = test_loss + ((1 / (batch_idx + 1)) * (loss.data - test_loss))\n",
    "        # convert output probabilities to predicted class\n",
    "        pred = output.data.max(1, keepdim=True)[1]\n",
    "        # compare predictions to true label\n",
    "        correct += np.sum(np.squeeze(pred.eq(target.data.view_as(pred))).cpu().numpy())\n",
    "        total += data.size(0)\n",
    "            \n",
    "    print('Test Loss: {:.6f}\\n'.format(test_loss))\n",
    "\n",
    "    print('\\nTest Accuracy: %2d%% (%2d/%2d)' % (\n",
    "        100. * correct / total, correct, total))\n",
    "\n",
    "# call test function    \n",
    "test(loaders_scratch, model_scratch, criterion_scratch, use_cuda)"
   ]
  },
  {
   "cell_type": "markdown",
   "metadata": {},
   "source": [
    "## Step 3 - Part 2 - Training Model using Amazon Sage Maker"
   ]
  },
  {
   "cell_type": "code",
   "execution_count": null,
   "metadata": {},
   "outputs": [],
   "source": [
    "import sagemaker\n",
    "import boto3\n",
    "import os\n",
    "from dotenv import load_dotenv\n",
    "load_dotenv()\n",
    "\n",
    "sagemaker_session = sagemaker.Session()\n",
    "\n",
    "bucket_name = \"my-sage-maker-instance-test-20-03-2020-2\"\n",
    "bucket = boto3.resource('s3').Bucket(bucket_name)\n",
    "\n",
    "prefix = 'data/dog_images'\n",
    "\n",
    "role = os.getenv('AWS_IAM_Role_name')\n",
    "\n",
    "input_data = os.path.join('s3://',bucket.name,prefix)"
   ]
  },
  {
   "cell_type": "code",
   "execution_count": null,
   "metadata": {},
   "outputs": [],
   "source": [
    "input_data"
   ]
  },
  {
   "cell_type": "code",
   "execution_count": null,
   "metadata": {},
   "outputs": [],
   "source": [
    "from sagemaker.pytorch import PyTorch\n",
    "\n",
    "estimator = PyTorch(entry_point=\"train.py\",\n",
    "                    source_dir=\"train\",\n",
    "                    role=role,\n",
    "                    framework_version='0.4.0',\n",
    "                    train_instance_count=1,\n",
    "                    train_instance_type='ml.p2.xlarge',\n",
    "                    hyperparameters={\n",
    "                        'epochs': 5,\n",
    "                    })"
   ]
  },
  {
   "cell_type": "code",
   "execution_count": null,
   "metadata": {},
   "outputs": [],
   "source": [
    "estimator.fit({'training': input_data})"
   ]
  },
  {
   "cell_type": "markdown",
   "metadata": {},
   "source": [
    "Remove Later"
   ]
  },
  {
   "cell_type": "code",
   "execution_count": 13,
   "metadata": {},
   "outputs": [],
   "source": [
    "from PIL import Image\n",
    "import torchvision.transforms as transforms"
   ]
  },
  {
   "cell_type": "code",
   "execution_count": 14,
   "metadata": {},
   "outputs": [],
   "source": [
    "try_transforms = transforms.Compose([transforms.Resize(256),\n",
    "                                      transforms.CenterCrop(224),\n",
    "                                      transforms.ToTensor(),\n",
    "                                      transforms.Normalize([0.485, 0.456, 0.406], \n",
    "                                                           [0.229, 0.224, 0.225])])"
   ]
  },
  {
   "cell_type": "code",
   "execution_count": 16,
   "metadata": {},
   "outputs": [],
   "source": [
    "#try_img = datasets.ImageFolder(train_dir, transform=train_transforms)\n",
    "try_img = Image.open('../data/dog_images/test/105.Neapolitan_mastiff/Neapolitan_mastiff_06937.jpg')"
   ]
  },
  {
   "cell_type": "code",
   "execution_count": 17,
   "metadata": {},
   "outputs": [],
   "source": [
    "try_input = try_transforms(try_img).unsqueeze(0)"
   ]
  },
  {
   "cell_type": "code",
   "execution_count": 32,
   "metadata": {},
   "outputs": [],
   "source": [
    "import torch.nn as nn\n",
    "import torch.nn.functional as F\n",
    "\n",
    "# define the CNN architecture\n",
    "class Net(nn.Module):\n",
    "    ### TODO: choose an architecture, and complete the class\n",
    "    def __init__(self):\n",
    "        super(Net, self).__init__()\n",
    "        ## Define layers of a CNN\n",
    "        ## Define layers of a CNN\n",
    "        self.conv1 = nn.Conv2d(3,32,kernel_size=5)\n",
    "        self.conv2 = nn.Conv2d(32,64,kernel_size=5)\n",
    "        self.mp = nn.MaxPool2d(2)\n",
    "        self.fc = nn.Linear(179776,133)\n",
    "    \n",
    "    def forward(self, x):\n",
    "        ## Define forward behavior\n",
    "        in_size = x.size(0)\n",
    "        x = F.relu(self.mp(self.conv1(x)))\n",
    "        x = F.relu(self.mp(self.conv2(x)))\n",
    "        x = x.view(in_size,-1)\n",
    "        x = self.fc(x)\n",
    "        print(x.shape)\n",
    "        return F.log_softmax(x, dim=1)\n",
    "\n",
    "    def get(self):\n",
    "        device = self.conv1.weight.device\n",
    "        var1 = nn.Parameter(torch.randn(1, device=device))\n",
    "        return device\n",
    "#-#-# You so NOT have to modify the code below this line. #-#-#\n",
    "\n",
    "# instantiate the CNN\n",
    "model_scratch = Net()"
   ]
  },
  {
   "cell_type": "code",
   "execution_count": 33,
   "metadata": {},
   "outputs": [
    {
     "data": {
      "text/plain": [
       "device(type='cpu')"
      ]
     },
     "execution_count": 33,
     "metadata": {},
     "output_type": "execute_result"
    }
   ],
   "source": [
    "model_scratch.get()"
   ]
  },
  {
   "cell_type": "code",
   "execution_count": 23,
   "metadata": {},
   "outputs": [
    {
     "name": "stdout",
     "output_type": "stream",
     "text": [
      "torch.Size([1, 133])\n"
     ]
    }
   ],
   "source": [
    "try_output = model_scratch.forward(try_input)"
   ]
  },
  {
   "cell_type": "code",
   "execution_count": 26,
   "metadata": {},
   "outputs": [
    {
     "data": {
      "text/plain": [
       "[Parameter containing:\n",
       " tensor([[[[ 0.0308, -0.1091, -0.0987,  0.0491,  0.1133],\n",
       "           [-0.1059,  0.0837, -0.0466, -0.0240, -0.0772],\n",
       "           [-0.1083, -0.0278,  0.0469, -0.1140,  0.1009],\n",
       "           [-0.0659, -0.0206,  0.0020, -0.0622, -0.0038],\n",
       "           [ 0.0091, -0.0781,  0.0543, -0.0055, -0.1012]],\n",
       " \n",
       "          [[ 0.0032,  0.0798,  0.0521,  0.0977, -0.0899],\n",
       "           [ 0.0549,  0.0013,  0.0213, -0.0688,  0.0124],\n",
       "           [-0.0454,  0.0870,  0.0444,  0.0068, -0.0797],\n",
       "           [-0.0632,  0.0566,  0.0545, -0.0995,  0.0284],\n",
       "           [-0.1129,  0.0096, -0.0768,  0.0932, -0.0587]],\n",
       " \n",
       "          [[-0.0681,  0.0884,  0.0303, -0.1148, -0.0094],\n",
       "           [-0.0649, -0.0548,  0.0371, -0.0290,  0.0490],\n",
       "           [ 0.0006, -0.0367, -0.0172,  0.0352, -0.0292],\n",
       "           [-0.1091,  0.0359, -0.0683, -0.1147, -0.1015],\n",
       "           [ 0.0282,  0.0573, -0.0706,  0.0308, -0.0813]]],\n",
       " \n",
       " \n",
       "         [[[-0.0683, -0.0585, -0.0827, -0.1031, -0.0410],\n",
       "           [-0.0032, -0.1081,  0.0766,  0.0773,  0.0803],\n",
       "           [ 0.1039,  0.0480,  0.1023, -0.0186,  0.1138],\n",
       "           [-0.0029, -0.0375,  0.0884,  0.0188, -0.1148],\n",
       "           [-0.0979, -0.0418,  0.0301, -0.0450, -0.0945]],\n",
       " \n",
       "          [[-0.0631,  0.1146,  0.0672, -0.0857,  0.0726],\n",
       "           [ 0.0176,  0.0237,  0.1031,  0.0208,  0.0589],\n",
       "           [-0.0936,  0.0365, -0.0053, -0.1091, -0.0087],\n",
       "           [ 0.0434, -0.0239,  0.0251,  0.0656,  0.0195],\n",
       "           [-0.0352,  0.0118,  0.1046,  0.1122, -0.0099]],\n",
       " \n",
       "          [[-0.0056,  0.0514, -0.0876, -0.1087,  0.0975],\n",
       "           [ 0.0406,  0.0909, -0.0961,  0.0272, -0.0600],\n",
       "           [ 0.0226, -0.0838, -0.0843, -0.0311, -0.0670],\n",
       "           [ 0.0236,  0.1139,  0.0259, -0.1003, -0.1147],\n",
       "           [ 0.1008, -0.0241, -0.0691,  0.0972, -0.0127]]],\n",
       " \n",
       " \n",
       "         [[[ 0.0587,  0.0731,  0.0513,  0.0468,  0.0483],\n",
       "           [ 0.0490,  0.1001,  0.0490, -0.0238, -0.0746],\n",
       "           [ 0.0356, -0.0450,  0.0856,  0.0148,  0.0991],\n",
       "           [ 0.1122,  0.0742,  0.0779, -0.0456, -0.0314],\n",
       "           [ 0.0656,  0.0074,  0.0173,  0.0053, -0.0274]],\n",
       " \n",
       "          [[-0.0567,  0.0398, -0.0999,  0.0487, -0.0765],\n",
       "           [ 0.0720, -0.0426, -0.0522,  0.0189, -0.0555],\n",
       "           [ 0.1019, -0.1079,  0.0221, -0.0996,  0.0644],\n",
       "           [-0.1092, -0.0613, -0.0196,  0.0790, -0.0415],\n",
       "           [-0.0782, -0.0564, -0.0138,  0.0860, -0.0209]],\n",
       " \n",
       "          [[ 0.0904,  0.0067,  0.0793, -0.0770,  0.0437],\n",
       "           [-0.0512,  0.0670, -0.0703, -0.1047,  0.0975],\n",
       "           [ 0.0342,  0.0504,  0.0024,  0.0313,  0.0583],\n",
       "           [-0.1015, -0.0012,  0.0683, -0.0714, -0.0041],\n",
       "           [-0.0471,  0.0025, -0.0722,  0.0890, -0.0513]]],\n",
       " \n",
       " \n",
       "         ...,\n",
       " \n",
       " \n",
       "         [[[-0.0939,  0.0564,  0.0741, -0.0038,  0.0292],\n",
       "           [ 0.0322, -0.0895,  0.0101,  0.0315,  0.0551],\n",
       "           [ 0.0198,  0.0928, -0.0207, -0.1150, -0.1078],\n",
       "           [ 0.0976, -0.0878,  0.0727, -0.1060,  0.0744],\n",
       "           [ 0.0729, -0.0590,  0.1040, -0.0290, -0.0712]],\n",
       " \n",
       "          [[-0.0193, -0.0999,  0.0698,  0.0675,  0.0172],\n",
       "           [-0.0838,  0.0985,  0.0126,  0.1017, -0.1114],\n",
       "           [ 0.1127, -0.0229, -0.0022, -0.0446, -0.1090],\n",
       "           [ 0.1074,  0.0929,  0.0051,  0.1139, -0.0901],\n",
       "           [-0.0259,  0.0944,  0.0619,  0.0574,  0.0963]],\n",
       " \n",
       "          [[-0.0090,  0.0279,  0.0075, -0.1147, -0.0686],\n",
       "           [ 0.0298, -0.0799,  0.0339,  0.0810, -0.0133],\n",
       "           [-0.0564,  0.0932,  0.0610,  0.0234,  0.0236],\n",
       "           [-0.0566,  0.1017,  0.0343, -0.0847,  0.0772],\n",
       "           [-0.0994, -0.0881,  0.0061,  0.0955, -0.0563]]],\n",
       " \n",
       " \n",
       "         [[[ 0.0943,  0.0006, -0.0829,  0.1089, -0.0858],\n",
       "           [ 0.0787, -0.0895,  0.0536,  0.0608, -0.1102],\n",
       "           [ 0.0127,  0.0428, -0.0939, -0.1129, -0.0563],\n",
       "           [-0.0414,  0.0116,  0.0631, -0.0797, -0.0478],\n",
       "           [ 0.0653,  0.1093,  0.0846, -0.0715, -0.0478]],\n",
       " \n",
       "          [[ 0.0540, -0.0608, -0.0902,  0.0335,  0.0386],\n",
       "           [ 0.0297,  0.0078, -0.0345, -0.0816,  0.0544],\n",
       "           [-0.0374,  0.0602,  0.0623,  0.0401,  0.0212],\n",
       "           [ 0.0467,  0.0711,  0.1057,  0.0293,  0.0586],\n",
       "           [-0.0367,  0.0093,  0.0497, -0.0242, -0.0653]],\n",
       " \n",
       "          [[-0.0542, -0.0221, -0.0420, -0.0955, -0.0577],\n",
       "           [-0.0080, -0.0042, -0.1025, -0.0482, -0.1012],\n",
       "           [ 0.1137,  0.0498,  0.0813, -0.0732, -0.0980],\n",
       "           [-0.0059,  0.1027, -0.0830,  0.1024,  0.0191],\n",
       "           [ 0.0864, -0.0437,  0.0361, -0.0935,  0.0662]]],\n",
       " \n",
       " \n",
       "         [[[-0.0089,  0.0385,  0.0325,  0.0527,  0.0381],\n",
       "           [-0.0893,  0.0075,  0.0509,  0.0585,  0.0338],\n",
       "           [-0.0858, -0.0912, -0.1144, -0.0916,  0.1027],\n",
       "           [ 0.0903, -0.0866, -0.1134,  0.0805, -0.0266],\n",
       "           [ 0.1015, -0.0806, -0.0792, -0.0119, -0.0836]],\n",
       " \n",
       "          [[-0.0522, -0.0828, -0.0564, -0.0745,  0.0574],\n",
       "           [-0.0526, -0.0272, -0.1000, -0.0838, -0.0191],\n",
       "           [ 0.1003,  0.1079,  0.0003,  0.0200,  0.0844],\n",
       "           [-0.0296,  0.1057,  0.0148, -0.0778, -0.0194],\n",
       "           [-0.0416, -0.0686,  0.0277,  0.0452, -0.0052]],\n",
       " \n",
       "          [[-0.0148,  0.0434,  0.0916,  0.0683, -0.1021],\n",
       "           [ 0.0641, -0.1148, -0.0624, -0.0245, -0.0255],\n",
       "           [-0.0103, -0.0479, -0.0883, -0.0152, -0.1150],\n",
       "           [ 0.0988, -0.0169, -0.0444,  0.0953,  0.0770],\n",
       "           [-0.0771,  0.0016,  0.0716,  0.0258, -0.0807]]]], requires_grad=True),\n",
       " Parameter containing:\n",
       " tensor([-0.0032,  0.0851,  0.0516,  0.0866, -0.0098, -0.0111,  0.0969,  0.0473,\n",
       "          0.0212, -0.0087,  0.0465, -0.0855,  0.0693,  0.1078,  0.0917,  0.0589,\n",
       "         -0.1036, -0.0194, -0.0521, -0.0858, -0.0842,  0.0359,  0.0108, -0.0422,\n",
       "         -0.0562,  0.0780,  0.0445,  0.0078,  0.0885,  0.0949,  0.0649,  0.0126],\n",
       "        requires_grad=True),\n",
       " Parameter containing:\n",
       " tensor([[[[-2.1530e-03, -2.6298e-04,  2.1718e-04,  2.8969e-02,  6.7971e-03],\n",
       "           [-2.4855e-02,  2.0413e-02,  1.8928e-02, -1.0060e-02,  1.1978e-03],\n",
       "           [-5.8144e-03, -2.1231e-02, -1.6656e-02,  2.2273e-02, -6.8637e-03],\n",
       "           [ 2.3893e-02,  2.6874e-02, -1.1054e-02, -2.6051e-02, -3.0294e-02],\n",
       "           [ 1.0470e-02, -2.1481e-02,  7.5569e-03, -3.2479e-02, -6.3634e-03]],\n",
       " \n",
       "          [[ 2.4945e-02, -3.4258e-02, -1.6839e-02, -1.6582e-02, -2.1535e-02],\n",
       "           [-2.7040e-02, -1.7841e-02, -3.2550e-02,  2.6564e-02,  2.3616e-02],\n",
       "           [-2.6559e-02,  1.7886e-04, -4.5691e-03,  1.8530e-02,  3.2961e-02],\n",
       "           [-2.3637e-02,  1.4171e-02, -1.4137e-02, -5.6832e-03, -1.6506e-03],\n",
       "           [-2.9189e-03,  1.8982e-02,  2.4753e-02,  2.5529e-02, -2.8870e-02]],\n",
       " \n",
       "          [[-6.4324e-03,  2.5374e-02,  4.7487e-03,  2.2973e-02,  3.3640e-02],\n",
       "           [-8.1305e-03,  1.5252e-02,  2.8689e-02,  3.4055e-03, -2.9759e-02],\n",
       "           [ 1.9094e-02, -2.0010e-02, -2.8611e-02,  2.8667e-02,  2.9041e-02],\n",
       "           [-3.1154e-02, -6.2100e-03,  2.8022e-02, -2.5238e-02,  2.8561e-02],\n",
       "           [ 7.7849e-03,  2.1093e-02,  9.1864e-03, -2.6800e-02, -1.0022e-02]],\n",
       " \n",
       "          ...,\n",
       " \n",
       "          [[ 8.5470e-03,  2.4971e-02,  1.8151e-03,  2.7338e-02,  3.2761e-02],\n",
       "           [ 2.4010e-02, -9.9865e-04, -2.4460e-02, -1.7032e-02,  9.6701e-04],\n",
       "           [ 2.4687e-02,  2.5689e-03, -1.7829e-02,  3.0603e-02, -1.3632e-02],\n",
       "           [ 8.4148e-03,  1.8988e-03,  5.0406e-03, -1.9501e-02, -1.1238e-02],\n",
       "           [ 8.4786e-03,  3.0588e-02, -3.1385e-02,  9.5092e-05,  1.9279e-02]],\n",
       " \n",
       "          [[ 2.4329e-02,  3.7637e-03,  1.9279e-02, -2.8673e-02, -7.9262e-04],\n",
       "           [-1.6975e-03,  2.1246e-02,  1.5214e-02, -4.2769e-04, -6.3097e-03],\n",
       "           [-1.6965e-02,  1.7702e-02,  2.8802e-02, -9.3476e-03,  7.5063e-03],\n",
       "           [ 3.2424e-02, -1.4996e-02, -3.1104e-04, -2.4477e-02, -3.5283e-02],\n",
       "           [ 1.5779e-02, -2.3926e-02,  2.4344e-02, -1.2769e-02, -1.0449e-02]],\n",
       " \n",
       "          [[-3.5117e-02, -3.0974e-03, -2.3665e-02, -6.1739e-03,  1.0428e-02],\n",
       "           [-1.6738e-02, -9.6834e-03, -3.9138e-03,  7.2221e-04,  1.7267e-02],\n",
       "           [ 3.2375e-02,  2.4850e-02,  2.2565e-02, -7.2477e-03,  2.3243e-02],\n",
       "           [-1.5721e-02,  6.9959e-03,  4.9296e-03, -1.7354e-02,  2.0486e-02],\n",
       "           [ 1.5035e-02,  2.2413e-02, -1.3538e-02, -2.0217e-02,  7.2681e-03]]],\n",
       " \n",
       " \n",
       "         [[[ 3.4932e-02,  1.0721e-02, -3.1317e-02, -2.9131e-02, -2.3412e-02],\n",
       "           [ 1.5808e-02, -2.5329e-02, -5.0720e-03, -3.4086e-02,  1.5174e-02],\n",
       "           [ 4.5724e-03,  1.2371e-02, -2.6902e-02, -1.3302e-02, -3.7238e-03],\n",
       "           [-3.2522e-02, -1.2409e-02,  7.0366e-03, -2.3753e-03, -1.0422e-02],\n",
       "           [-1.6419e-02,  7.2343e-03,  2.2390e-02,  1.3234e-02,  2.7020e-02]],\n",
       " \n",
       "          [[ 3.1532e-02, -1.9408e-02, -4.2182e-04,  1.8745e-02,  1.3567e-02],\n",
       "           [-2.6697e-02, -3.1788e-02,  1.7409e-03, -2.6518e-02, -1.8579e-02],\n",
       "           [ 2.8720e-03,  2.0711e-02, -1.0171e-02, -2.7521e-02, -2.0334e-02],\n",
       "           [-3.5218e-02,  1.1968e-02, -2.6453e-02, -1.4797e-02,  1.4655e-02],\n",
       "           [-2.7524e-02, -3.7870e-03, -2.5360e-02,  1.1011e-02,  1.8475e-02]],\n",
       " \n",
       "          [[ 2.5195e-02,  6.3905e-03, -2.8935e-02, -2.8452e-02,  1.0010e-02],\n",
       "           [ 3.0545e-03,  1.7605e-02,  1.4061e-02,  1.3253e-02,  3.3773e-02],\n",
       "           [-2.7540e-02, -6.3106e-05,  4.0102e-03,  3.3890e-02,  2.4820e-02],\n",
       "           [ 2.0120e-02, -3.4666e-02, -1.0508e-02,  3.3015e-02, -4.7494e-03],\n",
       "           [-1.3266e-02,  2.8270e-02,  4.6807e-03,  3.4225e-02, -2.9246e-02]],\n",
       " \n",
       "          ...,\n",
       " \n",
       "          [[-2.6605e-02,  3.1395e-02, -1.9384e-02,  2.9516e-02,  2.6106e-02],\n",
       "           [-1.1776e-02,  3.2126e-02, -2.5786e-02,  1.1498e-02, -2.6406e-02],\n",
       "           [ 6.9671e-03,  1.8933e-03, -8.2909e-03,  7.6306e-03,  1.4519e-03],\n",
       "           [ 2.5275e-02, -2.4222e-02, -1.9794e-03, -3.0816e-02,  1.7273e-02],\n",
       "           [-2.0479e-02, -7.3853e-03,  4.6391e-03,  9.6135e-03, -1.9061e-02]],\n",
       " \n",
       "          [[-2.5907e-02,  1.1543e-02, -2.2063e-02,  2.3729e-02, -1.2203e-02],\n",
       "           [-3.0430e-02, -7.7770e-03, -1.4671e-02, -1.4583e-02,  2.1924e-02],\n",
       "           [ 8.6764e-03, -2.3481e-02, -2.0594e-02, -3.0356e-02, -2.4893e-02],\n",
       "           [-1.2597e-03,  1.4037e-02, -3.1404e-02,  2.2951e-02,  5.7638e-03],\n",
       "           [ 4.4164e-03, -1.8092e-02,  4.8664e-03,  2.7372e-02, -1.2529e-02]],\n",
       " \n",
       "          [[ 3.4559e-02, -1.5040e-02,  2.3489e-02,  4.3863e-03,  2.8077e-03],\n",
       "           [ 3.5768e-04,  4.0435e-03,  1.5291e-02,  2.1443e-02,  2.7334e-02],\n",
       "           [ 2.6132e-02, -2.4559e-02, -2.9834e-02, -1.9966e-03, -2.3816e-02],\n",
       "           [-2.0759e-02,  3.1826e-02,  3.3420e-02,  2.0724e-02, -2.8320e-02],\n",
       "           [ 3.6903e-03,  2.5206e-02, -1.4949e-02,  9.1517e-03, -1.8894e-02]]],\n",
       " \n",
       " \n",
       "         [[[-2.0361e-02, -1.5379e-02, -2.1187e-02,  1.2965e-02, -2.5665e-02],\n",
       "           [-8.1213e-03, -2.4162e-02,  2.0985e-02,  5.0564e-04,  2.8937e-02],\n",
       "           [-1.4489e-02, -1.8842e-02, -3.5100e-02,  4.1057e-03,  4.2914e-03],\n",
       "           [-3.3257e-02, -1.1220e-02,  7.2717e-03,  3.2333e-02,  3.4592e-02],\n",
       "           [ 1.8363e-02,  2.3054e-02,  1.2746e-03,  3.6010e-03, -3.3488e-02]],\n",
       " \n",
       "          [[ 1.0212e-02, -2.4337e-03, -3.4345e-02,  3.3728e-02,  3.1308e-02],\n",
       "           [ 1.5925e-02,  9.2858e-03, -5.0411e-03,  3.0642e-02,  3.3417e-02],\n",
       "           [ 2.8493e-03, -6.6806e-03,  6.6988e-03,  2.8466e-02,  2.7581e-02],\n",
       "           [ 1.9781e-02, -1.2864e-02, -1.9008e-02, -2.5010e-02, -1.9139e-02],\n",
       "           [ 3.4745e-02,  1.2305e-02, -1.6717e-02,  3.1118e-02, -2.0107e-03]],\n",
       " \n",
       "          [[ 2.0281e-02,  9.9889e-03, -4.7912e-03, -1.4478e-02, -1.3877e-02],\n",
       "           [-2.5549e-02, -1.3824e-02,  5.0686e-03,  8.6197e-03, -3.3139e-02],\n",
       "           [ 2.9866e-02, -2.7079e-02, -7.4770e-05,  2.8922e-02,  2.9539e-02],\n",
       "           [-1.1468e-02, -3.1646e-03,  1.2097e-03, -3.0420e-02, -2.8956e-02],\n",
       "           [-2.1443e-02, -2.5612e-02,  3.3013e-02, -7.8798e-03,  2.5147e-02]],\n",
       " \n",
       "          ...,\n",
       " \n",
       "          [[-2.3889e-03, -1.4329e-02,  4.2082e-04, -2.2553e-02, -2.5127e-02],\n",
       "           [-1.4030e-03,  2.0411e-02,  1.4234e-02, -1.5648e-02, -2.6608e-02],\n",
       "           [ 2.1687e-02,  2.2223e-02, -3.1173e-02, -2.9229e-02, -1.1027e-02],\n",
       "           [-2.9286e-02, -2.8152e-02, -1.4874e-02, -4.7585e-03,  2.5036e-02],\n",
       "           [-3.3487e-02,  2.7387e-02,  1.2633e-02, -2.4129e-02,  8.6429e-03]],\n",
       " \n",
       "          [[-1.9422e-03, -9.8639e-03,  7.2496e-03,  2.6168e-02,  3.8175e-03],\n",
       "           [-3.4844e-02, -2.4978e-02,  2.8286e-02, -1.3081e-02, -3.2763e-02],\n",
       "           [ 2.1978e-02,  1.4204e-02, -1.1370e-02,  8.6773e-03, -3.3071e-02],\n",
       "           [-2.6397e-02,  3.1872e-02, -2.6279e-02, -1.0828e-02,  3.2364e-03],\n",
       "           [-7.6401e-03, -2.2991e-02, -3.1495e-02, -3.0443e-02, -4.3430e-03]],\n",
       " \n",
       "          [[-1.8746e-02,  1.2306e-02, -1.7309e-02, -2.0557e-02, -9.5369e-03],\n",
       "           [ 2.7340e-02,  1.1293e-02, -2.3918e-02, -3.4226e-02,  1.3882e-02],\n",
       "           [-1.3897e-02,  1.1827e-02,  2.5266e-02, -2.4066e-03,  2.6788e-02],\n",
       "           [ 2.6609e-02,  2.4221e-02, -1.9278e-02,  1.6276e-02,  3.3680e-03],\n",
       "           [ 1.7701e-02, -2.0013e-02,  2.1865e-02, -1.8822e-02, -2.8064e-02]]],\n",
       " \n",
       " \n",
       "         ...,\n",
       " \n",
       " \n",
       "         [[[-3.1130e-02,  2.7838e-02, -1.9803e-02, -2.8249e-02,  3.0650e-02],\n",
       "           [ 9.2863e-03,  8.9553e-03, -1.5158e-02,  2.0081e-02,  2.4171e-03],\n",
       "           [ 1.2404e-02, -2.6024e-02, -8.3491e-03, -2.2244e-02,  2.6076e-03],\n",
       "           [ 5.3773e-03, -1.2285e-02, -2.8856e-02, -2.9062e-03, -2.9037e-03],\n",
       "           [-3.4346e-02, -2.5894e-02, -2.5137e-02,  2.8484e-02, -1.7147e-03]],\n",
       " \n",
       "          [[ 2.9832e-02, -4.3399e-03,  3.2922e-02, -2.0720e-02, -5.6022e-03],\n",
       "           [-2.9111e-02, -7.7603e-03,  2.0019e-02, -1.6261e-02,  2.0811e-02],\n",
       "           [-2.8522e-02,  3.3206e-02, -2.5378e-02,  1.4580e-02,  1.8515e-02],\n",
       "           [-4.5889e-03,  1.8964e-02,  1.4811e-02,  2.1663e-02,  1.1798e-02],\n",
       "           [-1.7974e-02, -2.8761e-02, -1.4043e-02, -3.0150e-02,  3.2994e-02]],\n",
       " \n",
       "          [[ 3.0984e-02, -1.3780e-02, -2.5981e-02,  4.7165e-03, -2.9296e-02],\n",
       "           [-1.8298e-03,  3.1610e-02,  2.2168e-02,  1.5963e-02, -2.1285e-02],\n",
       "           [ 2.2279e-02, -2.5754e-02, -5.0730e-03, -3.0730e-02, -3.5707e-05],\n",
       "           [-2.9839e-02, -3.5944e-03, -6.9290e-03, -1.5188e-02, -3.7314e-04],\n",
       "           [ 9.7091e-03,  3.9540e-03,  2.5906e-03, -5.3161e-03, -1.3653e-02]],\n",
       " \n",
       "          ...,\n",
       " \n",
       "          [[ 2.0406e-02,  7.1954e-03,  3.2485e-02,  2.7038e-02,  2.5877e-02],\n",
       "           [-4.4407e-04,  4.6034e-03, -1.8162e-02,  1.1101e-02, -2.2369e-02],\n",
       "           [-2.5619e-02, -4.3066e-03,  2.8543e-02,  3.3615e-02,  7.5333e-03],\n",
       "           [ 6.7124e-03, -3.3489e-02,  2.8908e-02,  3.2272e-02,  2.1016e-02],\n",
       "           [ 2.2848e-02, -3.0424e-02,  2.7004e-02,  2.8476e-02, -6.7238e-03]],\n",
       " \n",
       "          [[ 1.9015e-02, -2.5424e-02,  2.3601e-02,  1.6841e-02,  3.0053e-02],\n",
       "           [ 1.6933e-02, -3.1063e-02, -2.6737e-02, -6.9294e-03,  2.7003e-03],\n",
       "           [ 1.4255e-02, -2.1528e-02, -2.0603e-02,  9.1892e-03,  2.1145e-02],\n",
       "           [-7.9243e-03,  1.6610e-02, -1.6928e-02, -2.6842e-02, -1.4558e-04],\n",
       "           [-3.4907e-02, -3.4880e-02, -2.0578e-02, -5.5254e-03,  2.6171e-02]],\n",
       " \n",
       "          [[-3.3747e-02, -1.2365e-02, -1.0120e-02,  2.4269e-02,  7.2527e-03],\n",
       "           [ 5.4038e-03,  2.9145e-02, -7.0772e-03,  1.7477e-02, -1.0063e-02],\n",
       "           [ 1.4807e-02,  1.5209e-02, -5.3936e-03,  2.1138e-02,  3.3285e-02],\n",
       "           [-3.9865e-03,  1.8996e-03,  3.5121e-02,  1.3945e-02,  2.6776e-02],\n",
       "           [-2.1270e-02,  1.4780e-02,  1.6340e-02,  3.3514e-02,  6.1718e-03]]],\n",
       " \n",
       " \n",
       "         [[[ 1.0394e-02,  4.0533e-03, -5.3685e-03,  1.7035e-02, -2.7837e-02],\n",
       "           [-2.6540e-03,  2.8063e-03,  2.0625e-02,  7.6900e-03,  8.6815e-03],\n",
       "           [-2.7267e-02,  1.3464e-02, -1.7509e-02, -2.6266e-02,  3.5303e-02],\n",
       "           [ 3.2709e-02, -2.2209e-02, -9.5696e-04,  6.1797e-03,  3.0440e-02],\n",
       "           [ 2.6352e-02, -7.1925e-04,  1.3228e-02, -3.4788e-02, -3.0760e-02]],\n",
       " \n",
       "          [[-2.8442e-03, -3.0567e-02,  2.3934e-02,  2.1289e-02, -2.5912e-02],\n",
       "           [ 2.3145e-02, -2.3387e-02,  2.3780e-02,  1.1947e-02,  1.4636e-03],\n",
       "           [-5.6612e-03, -3.4048e-02, -1.8438e-02,  6.6474e-03, -2.3994e-02],\n",
       "           [-7.9598e-03,  1.6474e-02,  1.9082e-02,  3.1106e-02, -1.4036e-02],\n",
       "           [ 3.1919e-02,  3.3644e-02,  2.9395e-02, -1.3813e-02, -1.2854e-02]],\n",
       " \n",
       "          [[-2.0999e-03, -1.4685e-03, -2.2428e-02, -6.4459e-03,  2.6138e-03],\n",
       "           [-1.9728e-02, -4.8883e-03,  2.8126e-02,  2.8916e-02, -2.0800e-02],\n",
       "           [ 3.0583e-02, -1.0595e-02,  2.7783e-02, -2.7718e-02,  2.6312e-02],\n",
       "           [-3.5267e-02, -3.3004e-02,  1.4137e-02, -5.2767e-03, -1.9033e-02],\n",
       "           [ 3.4266e-03,  3.4354e-02, -1.3264e-02, -3.2849e-02,  3.0173e-02]],\n",
       " \n",
       "          ...,\n",
       " \n",
       "          [[-3.4870e-02,  1.9482e-02, -2.9223e-03,  3.8139e-03,  3.0856e-02],\n",
       "           [-7.3434e-03, -3.1899e-02, -3.1415e-04, -3.2584e-03,  2.8465e-02],\n",
       "           [-1.3030e-02,  1.8138e-02, -1.6009e-02, -2.2749e-02,  6.5551e-03],\n",
       "           [-2.0888e-02,  2.7720e-02,  2.4048e-03,  8.5128e-03, -3.3976e-02],\n",
       "           [ 2.1326e-02,  6.0004e-03, -1.6382e-02, -3.0063e-02,  3.1666e-02]],\n",
       " \n",
       "          [[ 9.2686e-03, -2.5843e-02,  4.5583e-04, -2.2063e-02, -3.4039e-03],\n",
       "           [-2.6823e-02, -1.2924e-02, -5.7905e-03,  1.2866e-02, -2.4255e-02],\n",
       "           [-1.5417e-02,  2.6394e-02,  1.1673e-02, -6.7460e-03, -1.8204e-02],\n",
       "           [-8.1636e-03,  2.0754e-02, -2.4986e-02,  1.9807e-02, -3.2589e-02],\n",
       "           [-2.1561e-02, -1.3479e-02, -2.5391e-02, -8.4291e-04, -1.8442e-02]],\n",
       " \n",
       "          [[-1.2872e-02, -1.2381e-02, -3.0319e-02, -3.6636e-03, -1.9990e-02],\n",
       "           [-2.6122e-03,  4.7882e-03,  1.6915e-03,  2.6518e-02, -2.8333e-03],\n",
       "           [-3.3200e-02, -1.3117e-02, -2.6805e-02, -3.6159e-03, -5.1908e-03],\n",
       "           [-3.3953e-02, -3.3436e-02, -3.0343e-02, -2.6217e-02, -2.1762e-02],\n",
       "           [-1.6537e-02,  1.3443e-03, -5.8566e-03, -3.1009e-02, -3.4923e-02]]],\n",
       " \n",
       " \n",
       "         [[[ 3.0907e-02, -3.1013e-02, -1.6761e-02,  1.9710e-02, -2.9681e-02],\n",
       "           [ 8.0091e-03,  1.2191e-02,  2.4616e-02,  3.0764e-02, -2.3405e-02],\n",
       "           [ 1.3324e-02,  2.0764e-03,  1.4308e-02, -3.1867e-02, -3.1553e-02],\n",
       "           [-2.8619e-02,  2.5800e-03,  2.1618e-02, -1.0600e-02, -2.1811e-02],\n",
       "           [ 2.0826e-02, -2.4710e-02,  3.1376e-02,  1.6576e-02, -1.0158e-02]],\n",
       " \n",
       "          [[-2.2257e-03,  3.2530e-02,  7.6645e-03, -2.8973e-02, -1.7212e-02],\n",
       "           [-5.2770e-03,  1.5965e-03, -2.7433e-02, -7.6452e-03, -2.7007e-02],\n",
       "           [-3.0453e-02,  8.0811e-03,  2.7265e-03,  2.4060e-02, -7.9639e-03],\n",
       "           [-2.6525e-02,  2.6082e-02,  2.1267e-02,  2.2361e-02, -3.2546e-02],\n",
       "           [ 2.5094e-02, -7.5613e-03, -2.8134e-02, -1.0434e-02,  2.2567e-02]],\n",
       " \n",
       "          [[ 2.0443e-02,  1.9577e-02, -2.3899e-02,  7.4942e-03,  1.9558e-02],\n",
       "           [-1.3357e-02, -3.1510e-02,  2.7875e-02,  2.1885e-02, -4.7608e-03],\n",
       "           [-2.9269e-02, -1.9207e-02, -2.3953e-02, -3.9818e-03,  2.1618e-02],\n",
       "           [ 2.2648e-02,  6.0666e-03, -1.1802e-02, -3.1727e-02,  3.3787e-02],\n",
       "           [ 3.4243e-02,  7.6226e-03, -5.7041e-03, -6.7562e-03, -1.1949e-02]],\n",
       " \n",
       "          ...,\n",
       " \n",
       "          [[-3.3258e-02,  2.0209e-02,  7.5764e-03, -1.0229e-02,  2.4015e-02],\n",
       "           [ 1.4022e-02, -1.8536e-02, -3.0527e-02,  3.8459e-03,  1.9964e-02],\n",
       "           [ 1.0043e-03,  1.1921e-02,  6.4306e-03, -1.2678e-02,  9.0349e-04],\n",
       "           [ 8.8538e-03,  1.7728e-02,  3.5313e-02, -1.9825e-02,  8.9835e-03],\n",
       "           [-1.3145e-02,  1.2085e-02,  2.6469e-02,  1.2773e-02, -2.0602e-02]],\n",
       " \n",
       "          [[-3.0113e-02, -1.8108e-03, -6.1399e-03,  1.7814e-02, -2.8422e-02],\n",
       "           [-6.5746e-03, -1.3966e-02, -1.0877e-03,  1.7042e-02,  1.8406e-02],\n",
       "           [-2.7747e-02,  1.1536e-02,  8.4146e-03,  6.3466e-03, -2.3784e-02],\n",
       "           [-1.9887e-02, -1.3416e-02,  2.4713e-03, -1.0583e-02,  1.6276e-02],\n",
       "           [-9.2562e-03,  1.7817e-02,  1.6029e-02,  1.2118e-02, -3.1593e-04]],\n",
       " \n",
       "          [[ 1.1337e-02, -5.2148e-03,  2.8383e-02, -2.5183e-02,  2.9719e-02],\n",
       "           [-3.0113e-02,  2.4810e-02, -1.9184e-02, -9.7241e-03,  1.3642e-02],\n",
       "           [-1.4464e-02,  2.2352e-02, -7.4536e-03,  2.6388e-02,  3.5112e-02],\n",
       "           [-2.8571e-02,  1.9004e-02,  2.5156e-02,  3.3037e-02,  6.8674e-03],\n",
       "           [-2.7039e-02, -4.8826e-03,  1.2477e-02,  3.9026e-03,  2.0718e-02]]]],\n",
       "        requires_grad=True),\n",
       " Parameter containing:\n",
       " tensor([ 0.0044, -0.0127,  0.0019,  0.0306,  0.0091,  0.0291, -0.0096, -0.0022,\n",
       "         -0.0147,  0.0345,  0.0234,  0.0157,  0.0208, -0.0173, -0.0345, -0.0058,\n",
       "          0.0094,  0.0096, -0.0055,  0.0294, -0.0321,  0.0036,  0.0194, -0.0083,\n",
       "         -0.0312,  0.0020,  0.0215,  0.0035, -0.0043,  0.0084,  0.0200, -0.0180,\n",
       "          0.0282,  0.0345,  0.0250, -0.0137, -0.0300, -0.0296,  0.0120, -0.0119,\n",
       "          0.0158,  0.0155,  0.0006,  0.0238,  0.0297,  0.0129, -0.0182, -0.0297,\n",
       "         -0.0169,  0.0280,  0.0042, -0.0146,  0.0094, -0.0209,  0.0347, -0.0213,\n",
       "          0.0084,  0.0184,  0.0328, -0.0193, -0.0039, -0.0107, -0.0349,  0.0252],\n",
       "        requires_grad=True),\n",
       " Parameter containing:\n",
       " tensor([[ 0.0007,  0.0017,  0.0012,  ..., -0.0017, -0.0002, -0.0006],\n",
       "         [-0.0019,  0.0010, -0.0020,  ..., -0.0019,  0.0010, -0.0003],\n",
       "         [ 0.0010,  0.0011,  0.0010,  ..., -0.0002,  0.0003,  0.0001],\n",
       "         ...,\n",
       "         [ 0.0009, -0.0011,  0.0001,  ..., -0.0017,  0.0011, -0.0018],\n",
       "         [-0.0021,  0.0011,  0.0003,  ..., -0.0010,  0.0014,  0.0016],\n",
       "         [-0.0020,  0.0015,  0.0002,  ...,  0.0020, -0.0012, -0.0019]],\n",
       "        requires_grad=True),\n",
       " Parameter containing:\n",
       " tensor([ 1.5313e-03, -1.4098e-04, -1.3851e-03,  2.0901e-03,  1.7155e-04,\n",
       "          3.1356e-05, -2.3208e-03, -5.0400e-04,  2.1412e-03,  1.7751e-03,\n",
       "         -7.0483e-05, -1.7045e-03, -1.2989e-04,  1.4248e-03,  1.8154e-03,\n",
       "          2.0350e-03,  3.2873e-04,  1.6524e-03, -1.7648e-03, -1.3310e-03,\n",
       "          7.3398e-04, -2.7793e-04, -6.4823e-04, -1.0837e-04,  1.3658e-03,\n",
       "          1.0661e-03, -1.7365e-03,  5.0552e-04, -9.5084e-04, -1.1286e-03,\n",
       "         -1.9636e-03,  1.9183e-03,  1.9007e-03, -7.3929e-04,  1.4067e-03,\n",
       "         -1.9534e-03, -1.6642e-03, -2.0074e-03,  1.1068e-04, -2.3536e-04,\n",
       "          6.5691e-04, -7.9445e-05,  4.7542e-04,  2.0088e-03, -7.4811e-04,\n",
       "          2.2882e-03,  1.0905e-03,  2.1413e-04, -1.8706e-03,  7.2092e-04,\n",
       "          1.6354e-03, -2.2250e-03,  1.3418e-03, -1.4820e-03,  5.7385e-04,\n",
       "          2.1803e-03, -8.2794e-04,  1.9543e-03,  1.9717e-03,  1.3307e-03,\n",
       "          5.0782e-04,  8.9672e-04, -8.3477e-04,  1.8620e-03,  2.2456e-03,\n",
       "          9.9114e-04,  1.3435e-04,  1.0769e-04, -2.0408e-03, -2.1174e-03,\n",
       "         -1.7996e-03,  2.1849e-03, -5.5277e-04,  2.0729e-03, -1.9739e-03,\n",
       "         -1.0997e-03,  1.7322e-03,  2.1612e-03,  6.9895e-04,  1.2800e-03,\n",
       "          1.1325e-03,  8.3186e-04,  8.7749e-04, -4.4532e-04, -2.0280e-03,\n",
       "          1.1998e-03, -3.5134e-04, -2.9109e-04, -2.9289e-04, -2.0308e-03,\n",
       "          2.2545e-03, -1.9875e-04, -9.6578e-04,  3.6172e-04, -3.2610e-04,\n",
       "         -2.0788e-03, -1.5938e-03,  2.0480e-03, -1.1228e-03,  1.5086e-03,\n",
       "         -1.9773e-03, -3.6182e-04, -7.7702e-04,  6.5145e-04,  1.0247e-03,\n",
       "          6.2386e-04, -2.7494e-04,  5.9710e-04,  8.6772e-04,  1.8936e-03,\n",
       "         -3.3512e-05,  3.0376e-04,  9.3080e-05, -1.5432e-03, -1.3007e-03,\n",
       "          6.6675e-04,  1.9215e-04, -2.0090e-04,  7.9046e-04,  4.8807e-04,\n",
       "         -9.6292e-04, -1.1378e-04,  9.1782e-04, -1.3423e-03, -1.5433e-03,\n",
       "          6.3199e-04,  7.2455e-04,  1.7738e-03, -6.7132e-04,  1.8794e-03,\n",
       "          5.3709e-04, -1.0121e-03, -1.2551e-03], requires_grad=True)]"
      ]
     },
     "execution_count": 26,
     "metadata": {},
     "output_type": "execute_result"
    }
   ],
   "source": [
    "list(model_scratch.parameters())"
   ]
  },
  {
   "cell_type": "markdown",
   "metadata": {},
   "source": [
    "---\n",
    "<a id='step4'></a>\n",
    "## Step 4: Create a CNN to Classify Dog Breeds (using Transfer Learning)\n",
    "\n",
    "You will now use transfer learning to create a CNN that can identify dog breed from images.  Your CNN must attain at least 60% accuracy on the test set.\n",
    "\n",
    "### (IMPLEMENTATION) Specify Data Loaders for the Dog Dataset\n",
    "\n",
    "Use the code cell below to write three separate [data loaders](http://pytorch.org/docs/master/data.html#torch.utils.data.DataLoader) for the training, validation, and test datasets of dog images (located at `dogImages/train`, `dogImages/valid`, and `dogImages/test`, respectively). \n",
    "\n",
    "If you like, **you are welcome to use the same data loaders from the previous step**, when you created a CNN from scratch."
   ]
  },
  {
   "cell_type": "code",
   "execution_count": null,
   "metadata": {},
   "outputs": [],
   "source": [
    "## TODO: Specify data loaders\n"
   ]
  },
  {
   "cell_type": "markdown",
   "metadata": {},
   "source": [
    "### (IMPLEMENTATION) Model Architecture\n",
    "\n",
    "Use transfer learning to create a CNN to classify dog breed.  Use the code cell below, and save your initialized model as the variable `model_transfer`."
   ]
  },
  {
   "cell_type": "code",
   "execution_count": null,
   "metadata": {},
   "outputs": [],
   "source": [
    "import torchvision.models as models\n",
    "import torch.nn as nn\n",
    "\n",
    "## TODO: Specify model architecture \n",
    "\n",
    "\n",
    "if use_cuda:\n",
    "    model_transfer = model_transfer.cuda()"
   ]
  },
  {
   "cell_type": "markdown",
   "metadata": {},
   "source": [
    "__Question 5:__ Outline the steps you took to get to your final CNN architecture and your reasoning at each step.  Describe why you think the architecture is suitable for the current problem."
   ]
  },
  {
   "cell_type": "markdown",
   "metadata": {},
   "source": [
    "__Answer:__ \n"
   ]
  },
  {
   "cell_type": "markdown",
   "metadata": {},
   "source": [
    "### (IMPLEMENTATION) Specify Loss Function and Optimizer\n",
    "\n",
    "Use the next code cell to specify a [loss function](http://pytorch.org/docs/master/nn.html#loss-functions) and [optimizer](http://pytorch.org/docs/master/optim.html).  Save the chosen loss function as `criterion_transfer`, and the optimizer as `optimizer_transfer` below."
   ]
  },
  {
   "cell_type": "code",
   "execution_count": null,
   "metadata": {},
   "outputs": [],
   "source": [
    "criterion_transfer = None\n",
    "optimizer_transfer = None"
   ]
  },
  {
   "cell_type": "markdown",
   "metadata": {},
   "source": [
    "### (IMPLEMENTATION) Train and Validate the Model\n",
    "\n",
    "Train and validate your model in the code cell below.  [Save the final model parameters](http://pytorch.org/docs/master/notes/serialization.html) at filepath `'model_transfer.pt'`."
   ]
  },
  {
   "cell_type": "code",
   "execution_count": null,
   "metadata": {},
   "outputs": [],
   "source": [
    "# train the model\n",
    "model_transfer = # train(n_epochs, loaders_transfer, model_transfer, optimizer_transfer, criterion_transfer, use_cuda, 'model_transfer.pt')\n",
    "\n",
    "# load the model that got the best validation accuracy (uncomment the line below)\n",
    "#model_transfer.load_state_dict(torch.load('model_transfer.pt'))"
   ]
  },
  {
   "cell_type": "markdown",
   "metadata": {},
   "source": [
    "### (IMPLEMENTATION) Test the Model\n",
    "\n",
    "Try out your model on the test dataset of dog images. Use the code cell below to calculate and print the test loss and accuracy.  Ensure that your test accuracy is greater than 60%."
   ]
  },
  {
   "cell_type": "code",
   "execution_count": null,
   "metadata": {},
   "outputs": [],
   "source": [
    "test(loaders_transfer, model_transfer, criterion_transfer, use_cuda)"
   ]
  },
  {
   "cell_type": "markdown",
   "metadata": {},
   "source": [
    "### (IMPLEMENTATION) Predict Dog Breed with the Model\n",
    "\n",
    "Write a function that takes an image path as input and returns the dog breed (`Affenpinscher`, `Afghan hound`, etc) that is predicted by your model.  "
   ]
  },
  {
   "cell_type": "code",
   "execution_count": null,
   "metadata": {},
   "outputs": [],
   "source": [
    "### TODO: Write a function that takes a path to an image as input\n",
    "### and returns the dog breed that is predicted by the model.\n",
    "\n",
    "# list of class names by index, i.e. a name can be accessed like class_names[0]\n",
    "class_names = [item[4:].replace(\"_\", \" \") for item in data_transfer['train'].classes]\n",
    "\n",
    "def predict_breed_transfer(img_path):\n",
    "    # load the image and return the predicted breed\n",
    "    return None"
   ]
  },
  {
   "cell_type": "markdown",
   "metadata": {},
   "source": [
    "---\n",
    "<a id='step5'></a>\n",
    "## Step 5: Write your Algorithm\n",
    "\n",
    "Write an algorithm that accepts a file path to an image and first determines whether the image contains a human, dog, or neither.  Then,\n",
    "- if a __dog__ is detected in the image, return the predicted breed.\n",
    "- if a __human__ is detected in the image, return the resembling dog breed.\n",
    "- if __neither__ is detected in the image, provide output that indicates an error.\n",
    "\n",
    "You are welcome to write your own functions for detecting humans and dogs in images, but feel free to use the `face_detector` and `human_detector` functions developed above.  You are __required__ to use your CNN from Step 4 to predict dog breed.  \n",
    "\n",
    "Some sample output for our algorithm is provided below, but feel free to design your own user experience!\n",
    "\n",
    "![Sample Human Output](images/sample_human_output.png)\n",
    "\n",
    "\n",
    "### (IMPLEMENTATION) Write your Algorithm"
   ]
  },
  {
   "cell_type": "code",
   "execution_count": null,
   "metadata": {},
   "outputs": [],
   "source": [
    "### TODO: Write your algorithm.\n",
    "### Feel free to use as many code cells as needed.\n",
    "\n",
    "def run_app(img_path):\n",
    "    ## handle cases for a human face, dog, and neither\n",
    "    \n"
   ]
  },
  {
   "cell_type": "markdown",
   "metadata": {},
   "source": [
    "---\n",
    "<a id='step6'></a>\n",
    "## Step 6: Test Your Algorithm\n",
    "\n",
    "In this section, you will take your new algorithm for a spin!  What kind of dog does the algorithm think that _you_ look like?  If you have a dog, does it predict your dog's breed accurately?  If you have a cat, does it mistakenly think that your cat is a dog?\n",
    "\n",
    "### (IMPLEMENTATION) Test Your Algorithm on Sample Images!\n",
    "\n",
    "Test your algorithm at least six images on your computer.  Feel free to use any images you like.  Use at least two human and two dog images.  \n",
    "\n",
    "__Question 6:__ Is the output better than you expected :) ?  Or worse :( ?  Provide at least three possible points of improvement for your algorithm."
   ]
  },
  {
   "cell_type": "markdown",
   "metadata": {},
   "source": [
    "__Answer:__ (Three possible points for improvement)"
   ]
  },
  {
   "cell_type": "code",
   "execution_count": null,
   "metadata": {},
   "outputs": [],
   "source": [
    "## TODO: Execute your algorithm from Step 6 on\n",
    "## at least 6 images on your computer.\n",
    "## Feel free to use as many code cells as needed.\n",
    "\n",
    "## suggested code, below\n",
    "for file in np.hstack((human_files[:3], dog_files[:3])):\n",
    "    run_app(file)"
   ]
  }
 ],
 "metadata": {
  "anaconda-cloud": {},
  "kernelspec": {
   "display_name": "Python 3",
   "language": "python",
   "name": "python3"
  },
  "language_info": {
   "codemirror_mode": {
    "name": "ipython",
    "version": 3
   },
   "file_extension": ".py",
   "mimetype": "text/x-python",
   "name": "python",
   "nbconvert_exporter": "python",
   "pygments_lexer": "ipython3",
   "version": "3.7.7"
  }
 },
 "nbformat": 4,
 "nbformat_minor": 1
}
